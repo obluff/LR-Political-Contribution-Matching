{
 "cells": [
  {
   "cell_type": "code",
   "execution_count": 1,
   "metadata": {},
   "outputs": [],
   "source": [
    "import pandas as pd\n",
    "\n"
   ]
  },
  {
   "cell_type": "code",
   "execution_count": 2,
   "metadata": {},
   "outputs": [],
   "source": [
    "def mergeHeader(header, file):\n",
    "    header = pd.read_csv(header)\n",
    "    return pd.read_csv(file, sep = '|', names = header.columns)"
   ]
  },
  {
   "cell_type": "code",
   "execution_count": 3,
   "metadata": {},
   "outputs": [],
   "source": [
    "#loading candidate names file\n",
    "names = mergeHeader('data/names/cn_header_file.csv', 'data/names/cn.txt')\n",
    "\n",
    "\n",
    "#loading democratic candidates from election year\n",
    "candidates = names[(names['CAND_OFFICE'] == 'P') & (names['CAND_ELECTION_YR'] == 2016) & (names['CAND_PTY_AFFILIATION'].apply(lambda x: x in ['DEM', 'REP']))]"
   ]
  },
  {
   "cell_type": "code",
   "execution_count": 4,
   "metadata": {},
   "outputs": [],
   "source": [
    "#committee names\n",
    "cm = mergeHeader('data/cm/cm_header_file.csv', 'data/cm/cm.txt')\n",
    "\n",
    "\n",
    "#committee candidate linkage  \n",
    "ccl = mergeHeader('data/ccl/ccl_header_file.csv', 'data/ccl/ccl.txt')\n",
    "#linking candidates subquery with committee linkage\n",
    "convert = candidates.set_index('CAND_ID')[['CAND_NAME', 'CAND_PTY_AFFILIATION']].join(ccl.set_index('CAND_ID'), how='inner').reset_index()\n",
    "#joining the linked with committee names\n",
    "convert = convert.set_index('CMTE_ID').join(cm.set_index('CMTE_ID')['CMTE_NM'], how='left').reset_index()"
   ]
  },
  {
   "cell_type": "code",
   "execution_count": 5,
   "metadata": {},
   "outputs": [
    {
     "data": {
      "text/plain": [
       "SANDERS, BERNARD                                   12\n",
       "TRUMP, DONALD J. / MICHAEL R. PENCE                 3\n",
       "POWELL, MICHEL ANISSA I                             3\n",
       "BAILEY, GEORGE BRENT JR                             3\n",
       "CLINTON, HILLARY RODHAM / TIMOTHY MICHAEL KAINE     3\n",
       "CRUZ, RAFAEL EDWARD \"TED\"                           3\n",
       "Name: CAND_NAME, dtype: int64"
      ]
     },
     "execution_count": 5,
     "metadata": {},
     "output_type": "execute_result"
    }
   ],
   "source": [
    "#looking at the amount of values of sanders data\n",
    "top = convert['CAND_NAME'].value_counts()[:6]\n",
    "top\n"
   ]
  },
  {
   "cell_type": "code",
   "execution_count": 6,
   "metadata": {},
   "outputs": [],
   "source": [
    "cand = convert[convert['CAND_NAME'].apply(lambda x: x in top)]\n",
    "allCommittees = cand['CMTE_ID'].unique().tolist()\n",
    "\n",
    "\n",
    "#creating an object to query \n",
    "candCMT= {}\n",
    "for c in cand['CMTE_ID'].unique():\n",
    "    candCMT[c] = cand[cand['CMTE_ID'] == c]['CAND_NAME'].tolist()[0]"
   ]
  },
  {
   "cell_type": "code",
   "execution_count": 7,
   "metadata": {},
   "outputs": [
    {
     "data": {
      "text/plain": [
       "Index(['CMTE_ID', 'AMNDT_IND', 'RPT_TP', 'TRANSACTION_PGI', 'IMAGE_NUM',\n",
       "       'TRANSACTION_TP', 'ENTITY_TP', 'NAME', 'CITY', 'STATE', 'ZIP_CODE',\n",
       "       'EMPLOYER', 'OCCUPATION', 'TRANSACTION_DT', 'TRANSACTION_AMT',\n",
       "       'OTHER_ID', 'TRAN_ID', 'FILE_NUM', 'MEMO_CD', 'MEMO_TEXT', 'SUB_ID'],\n",
       "      dtype='object')"
      ]
     },
     "execution_count": 7,
     "metadata": {},
     "output_type": "execute_result"
    }
   ],
   "source": [
    "header = pd.read_csv('data/individual/indiv_header_file.csv')\n",
    "contributionsRaw = pd.read_csv('data/individual/itcont.txt', sep='|', names=header.columns, nrows=5000)\n",
    "contributionsRaw.columns"
   ]
  },
  {
   "cell_type": "code",
   "execution_count": 8,
   "metadata": {},
   "outputs": [],
   "source": [
    "dtypes ={'TRANSACTION_DT': int, 'OCCUPATION': str}"
   ]
  },
  {
   "cell_type": "code",
   "execution_count": 9,
   "metadata": {},
   "outputs": [
    {
     "name": "stderr",
     "output_type": "stream",
     "text": [
      "/usr/local/anaconda3/envs/swag/lib/python3.7/site-packages/IPython/core/interactiveshell.py:3020: DtypeWarning: Columns (10) have mixed types. Specify dtype option on import or set low_memory=False.\n",
      "  interactivity=interactivity, compiler=compiler, result=result)\n",
      "/usr/local/anaconda3/envs/swag/lib/python3.7/site-packages/IPython/core/interactiveshell.py:3020: DtypeWarning: Columns (5,10,15,18) have mixed types. Specify dtype option on import or set low_memory=False.\n",
      "  interactivity=interactivity, compiler=compiler, result=result)\n",
      "/usr/local/anaconda3/envs/swag/lib/python3.7/site-packages/IPython/core/interactiveshell.py:3020: DtypeWarning: Columns (10,15,18,19) have mixed types. Specify dtype option on import or set low_memory=False.\n",
      "  interactivity=interactivity, compiler=compiler, result=result)\n",
      "/usr/local/anaconda3/envs/swag/lib/python3.7/site-packages/IPython/core/interactiveshell.py:3020: DtypeWarning: Columns (10,18) have mixed types. Specify dtype option on import or set low_memory=False.\n",
      "  interactivity=interactivity, compiler=compiler, result=result)\n",
      "/usr/local/anaconda3/envs/swag/lib/python3.7/site-packages/IPython/core/interactiveshell.py:3020: DtypeWarning: Columns (3,5,10,15,18) have mixed types. Specify dtype option on import or set low_memory=False.\n",
      "  interactivity=interactivity, compiler=compiler, result=result)\n",
      "/usr/local/anaconda3/envs/swag/lib/python3.7/site-packages/IPython/core/interactiveshell.py:3020: DtypeWarning: Columns (5,10,15) have mixed types. Specify dtype option on import or set low_memory=False.\n",
      "  interactivity=interactivity, compiler=compiler, result=result)\n",
      "/usr/local/anaconda3/envs/swag/lib/python3.7/site-packages/IPython/core/interactiveshell.py:3020: DtypeWarning: Columns (18) have mixed types. Specify dtype option on import or set low_memory=False.\n",
      "  interactivity=interactivity, compiler=compiler, result=result)\n",
      "/usr/local/anaconda3/envs/swag/lib/python3.7/site-packages/IPython/core/interactiveshell.py:3020: DtypeWarning: Columns (10,15,18) have mixed types. Specify dtype option on import or set low_memory=False.\n",
      "  interactivity=interactivity, compiler=compiler, result=result)\n",
      "/usr/local/anaconda3/envs/swag/lib/python3.7/site-packages/IPython/core/interactiveshell.py:3020: DtypeWarning: Columns (3,5,10,15,18,19) have mixed types. Specify dtype option on import or set low_memory=False.\n",
      "  interactivity=interactivity, compiler=compiler, result=result)\n",
      "/usr/local/anaconda3/envs/swag/lib/python3.7/site-packages/IPython/core/interactiveshell.py:3020: DtypeWarning: Columns (5,10,15,18,19) have mixed types. Specify dtype option on import or set low_memory=False.\n",
      "  interactivity=interactivity, compiler=compiler, result=result)\n",
      "/usr/local/anaconda3/envs/swag/lib/python3.7/site-packages/IPython/core/interactiveshell.py:3020: DtypeWarning: Columns (15) have mixed types. Specify dtype option on import or set low_memory=False.\n",
      "  interactivity=interactivity, compiler=compiler, result=result)\n",
      "/usr/local/anaconda3/envs/swag/lib/python3.7/site-packages/IPython/core/interactiveshell.py:3020: DtypeWarning: Columns (5,15,18) have mixed types. Specify dtype option on import or set low_memory=False.\n",
      "  interactivity=interactivity, compiler=compiler, result=result)\n"
     ]
    },
    {
     "name": "stdout",
     "output_type": "stream",
     "text": [
      "chunk 100\n"
     ]
    },
    {
     "name": "stderr",
     "output_type": "stream",
     "text": [
      "/usr/local/anaconda3/envs/swag/lib/python3.7/site-packages/IPython/core/interactiveshell.py:3020: DtypeWarning: Columns (19) have mixed types. Specify dtype option on import or set low_memory=False.\n",
      "  interactivity=interactivity, compiler=compiler, result=result)\n",
      "/usr/local/anaconda3/envs/swag/lib/python3.7/site-packages/IPython/core/interactiveshell.py:3020: DtypeWarning: Columns (5,15,18,19) have mixed types. Specify dtype option on import or set low_memory=False.\n",
      "  interactivity=interactivity, compiler=compiler, result=result)\n",
      "/usr/local/anaconda3/envs/swag/lib/python3.7/site-packages/IPython/core/interactiveshell.py:3020: DtypeWarning: Columns (15,18,19) have mixed types. Specify dtype option on import or set low_memory=False.\n",
      "  interactivity=interactivity, compiler=compiler, result=result)\n",
      "/usr/local/anaconda3/envs/swag/lib/python3.7/site-packages/IPython/core/interactiveshell.py:3020: DtypeWarning: Columns (5,10,15,19) have mixed types. Specify dtype option on import or set low_memory=False.\n",
      "  interactivity=interactivity, compiler=compiler, result=result)\n"
     ]
    },
    {
     "name": "stdout",
     "output_type": "stream",
     "text": [
      "chunk 200\n"
     ]
    }
   ],
   "source": [
    "iter_csv = pd.read_csv('data/individual/itcont.txt', sep='|', iterator=True, names=header.columns, chunksize=100000)\n",
    "lst = []\n",
    "i = 1\n",
    "for chunk in iter_csv:\n",
    "    if i % 100 == 0:\n",
    "        print('chunk ' + str(i))\n",
    "    i +=1\n",
    "    lst += [chunk[chunk['CMTE_ID'].apply(lambda x: x in allCommittees)][['CMTE_ID', 'TRANSACTION_AMT', 'OCCUPATION', 'TRANSACTION_DT']]]\n",
    "\n",
    "df = pd.concat(lst)"
   ]
  },
  {
   "cell_type": "code",
   "execution_count": 10,
   "metadata": {},
   "outputs": [],
   "source": [
    "df.to_csv('data/campaigncontributions.csv')"
   ]
  },
  {
   "cell_type": "code",
   "execution_count": 11,
   "metadata": {},
   "outputs": [],
   "source": [
    "df['OCCUPATION'] = df['OCCUPATION'].apply(lambda x: str(x))\n",
    "df['CANDIDATE'] = df['CMTE_ID'].apply(lambda x: candCMT[x])"
   ]
  },
  {
   "cell_type": "code",
   "execution_count": 12,
   "metadata": {},
   "outputs": [
    {
     "data": {
      "text/plain": [
       "RETIRED                                   892158\n",
       "NOT EMPLOYED                              472546\n",
       "ATTORNEY                                  130203\n",
       "TEACHER                                    95550\n",
       "nan                                        88931\n",
       "PHYSICIAN                                  74845\n",
       "PROFESSOR                                  72818\n",
       "HOMEMAKER                                  57855\n",
       "CONSULTANT                                 56037\n",
       "ENGINEER                                   51675\n",
       "SALES                                      38044\n",
       "LAWYER                                     37520\n",
       "MANAGER                                    36384\n",
       "SOFTWARE ENGINEER                          36177\n",
       "WRITER                                     32253\n",
       "STUDENT                                    27796\n",
       "REGISTERED NURSE                           26359\n",
       "SELF EMPLOYED                              23795\n",
       "ARTIST                                     23404\n",
       "RN                                         20099\n",
       "OWNER                                      19261\n",
       "EDUCATOR                                   19249\n",
       "ACCOUNTANT                                 18169\n",
       "PSYCHOLOGIST                               17937\n",
       "CEO                                        17866\n",
       "BUSINESS OWNER                             16460\n",
       "SOCIAL WORKER                              16122\n",
       "REALTOR                                    15290\n",
       "MARKETING                                  15063\n",
       "PROJECT MANAGER                            14244\n",
       "                                           ...  \n",
       "TEXAS A&M UNIVERSITY                           1\n",
       "COURSE INSTRUCTOR                              1\n",
       "AIRPORT VAN DRIVER                             1\n",
       "ENVIRONMENTAL RISK ANALYST                     1\n",
       "HOMESCHOOLING EDUCATOR                         1\n",
       "RETIRED FEDERAL                                1\n",
       "FOUNDER/ARTISTIC DIRECTOR                      1\n",
       "OWNER OF PROPERTY MANAGEMENT COMPANY           1\n",
       "BANGIN                                         1\n",
       "HOTEL DEVELOPER AND MANAGER                    1\n",
       "CAMP COUNSELOR                                 1\n",
       "IT / VAPE SHOP EMPLOYEE                        1\n",
       "PLASTIC SURGEON, ARTIST, INVENTOR, ENT         1\n",
       "SPECIALIST, ACCESS TO HESLTHCARE, LPCC         1\n",
       "DIRECTOR OF GLOBAL HEALTH STRATEGY             1\n",
       "FARMER AND AG CONSULTANT                       1\n",
       "SOFTWARE TECHNOLOGIST                          1\n",
       "OPERATIONS ANALYST I                           1\n",
       "KITCHEN, BATH DESIGNER                         1\n",
       "ASSOC. DEAN STUDENT SUCCESS                    1\n",
       "ASSISTANT DEPUTY SECRETARY                     1\n",
       "AIRCRAFT EQUIPMENT SALES WPB AIRPORT T         1\n",
       "LOGISTICAL SUPERVISOR                          1\n",
       "SENATE STAFF                                   1\n",
       "CHIEF, RETAIL OPERATIONS SUSTAINMENT           1\n",
       "HR & BENEFITS MANAGER                          1\n",
       "INT DEVELOPMENT                                1\n",
       "HARRIS                                         1\n",
       "STATE OF OK                                    1\n",
       "SENIOR POLICY MANAGER, CLINTON CLIMATE         1\n",
       "Name: OCCUPATION, Length: 83715, dtype: int64"
      ]
     },
     "execution_count": 12,
     "metadata": {},
     "output_type": "execute_result"
    }
   ],
   "source": [
    "df['OCCUPATION'].value_counts()\n",
    "\n",
    "\n"
   ]
  },
  {
   "cell_type": "code",
   "execution_count": 13,
   "metadata": {},
   "outputs": [
    {
     "data": {
      "text/plain": [
       "<matplotlib.axes._subplots.AxesSubplot at 0x132c48278>"
      ]
     },
     "execution_count": 13,
     "metadata": {},
     "output_type": "execute_result"
    }
   ],
   "source": [
    "df.groupby('CANDIDATE').sum().plot(kind='Bar')"
   ]
  },
  {
   "cell_type": "code",
   "execution_count": 14,
   "metadata": {},
   "outputs": [],
   "source": [
    "df['CANDIDATE'] = df['CANDIDATE'].apply(lambda x: x.split(',')[0])"
   ]
  },
  {
   "cell_type": "code",
   "execution_count": 15,
   "metadata": {},
   "outputs": [],
   "source": [
    "cruz = df[df['CANDIDATE']=='CRUZ']"
   ]
  },
  {
   "cell_type": "code",
   "execution_count": 16,
   "metadata": {},
   "outputs": [
    {
     "data": {
      "text/plain": [
       "108033606"
      ]
     },
     "execution_count": 16,
     "metadata": {},
     "output_type": "execute_result"
    }
   ],
   "source": [
    "cruz['TRANSACTION_AMT'].sum() * 2 "
   ]
  },
  {
   "cell_type": "code",
   "execution_count": 17,
   "metadata": {},
   "outputs": [
    {
     "name": "stdout",
     "output_type": "stream",
     "text": [
      "CRUZ\n",
      "TRUMP\n",
      "CLINTON\n",
      "SANDERS\n"
     ]
    }
   ],
   "source": [
    "\n",
    "alphas = [1 + a * .1 for a in range(0, 10)]\n",
    "results = {}\n",
    "for c in df['CANDIDATE'].unique():\n",
    "    subDF = df[df['CANDIDATE'] == c]\n",
    "    fund = []\n",
    "    print(c)\n",
    "    for a in alphas:\n",
    "        fund += [subDF['TRANSACTION_AMT'].apply(lambda x: x**1-a).sum()**a]\n",
    "    results[c] = fund\n"
   ]
  },
  {
   "cell_type": "code",
   "execution_count": 99,
   "metadata": {},
   "outputs": [],
   "source": [
    "res = {}\n",
    "for c in df['CANDIDATE'].unique():\n",
    "    subDF = df[df['CANDIDATE'] == c]\n",
    "    res[c] = subDF['TRANSACTION_AMT'].apply(lambda x: x**.5).sum()**2\n",
    "    \n",
    "b = pd.DataFrame.from_dict(data=res, orient='index', columns=['lr'])"
   ]
  },
  {
   "cell_type": "code",
   "execution_count": 100,
   "metadata": {},
   "outputs": [],
   "source": [
    "b['pct'] = b['lr'].apply(lambda x: x/b['lr'].sum()).astype('float32')\n",
    "b['contributions'] = b['pct'] * df['TRANSACTION_AMT'].sum() \n",
    "b['original'] = df.groupby('CANDIDATE')['TRANSACTION_AMT'].sum()\n",
    "b['radical matching'] = b['contributions'] + b['original']\n",
    "b['radical matching'] = b['radical matching'].astype(int)\n",
    "b['radical proportional'] = b['original'].sum() * b['pct']\n",
    "b['traditionalmatching'] = b['original'] * 2 "
   ]
  },
  {
   "cell_type": "code",
   "execution_count": 102,
   "metadata": {},
   "outputs": [
    {
     "data": {
      "text/plain": [
       "<matplotlib.axes._subplots.AxesSubplot at 0x14a3ee0b8>"
      ]
     },
     "execution_count": 102,
     "metadata": {},
     "output_type": "execute_result"
    },
    {
     "data": {
      "image/png": "[encoded data removed]",
      "text/plain": [
       "<Figure size 432x288 with 1 Axes>"
      ]
     },
     "metadata": {
      "needs_background": "light"
     },
     "output_type": "display_data"
    }
   ],
   "source": [
    "b[['original', 'radical matching', 'radical proportional', 'traditionalmatching']].plot(kind='bar')"
   ]
  },
  {
   "cell_type": "code",
   "execution_count": 73,
   "metadata": {},
   "outputs": [],
   "source": []
  },
  {
   "cell_type": "code",
   "execution_count": 74,
   "metadata": {},
   "outputs": [
    {
     "data": {
      "text/html": [
       "<div>\n",
       "<style scoped>\n",
       "    .dataframe tbody tr th:only-of-type {\n",
       "        vertical-align: middle;\n",
       "    }\n",
       "\n",
       "    .dataframe tbody tr th {\n",
       "        vertical-align: top;\n",
       "    }\n",
       "\n",
       "    .dataframe thead th {\n",
       "        text-align: right;\n",
       "    }\n",
       "</style>\n",
       "<table border=\"1\" class=\"dataframe\">\n",
       "  <thead>\n",
       "    <tr style=\"text-align: right;\">\n",
       "      <th></th>\n",
       "      <th>lr</th>\n",
       "      <th>pct</th>\n",
       "      <th>contributions</th>\n",
       "      <th>original</th>\n",
       "      <th>traditionalmatching</th>\n",
       "    </tr>\n",
       "  </thead>\n",
       "  <tbody>\n",
       "    <tr>\n",
       "      <th>CRUZ</th>\n",
       "      <td>68216696</td>\n",
       "      <td>0.028550</td>\n",
       "      <td>1.419989e+07</td>\n",
       "      <td>54016803</td>\n",
       "      <td>108033606</td>\n",
       "    </tr>\n",
       "    <tr>\n",
       "      <th>TRUMP</th>\n",
       "      <td>70827744</td>\n",
       "      <td>0.011024</td>\n",
       "      <td>5.483195e+06</td>\n",
       "      <td>65344550</td>\n",
       "      <td>130689100</td>\n",
       "    </tr>\n",
       "    <tr>\n",
       "      <th>CLINTON</th>\n",
       "      <td>676842383</td>\n",
       "      <td>0.770538</td>\n",
       "      <td>3.832404e+08</td>\n",
       "      <td>293602014</td>\n",
       "      <td>587204028</td>\n",
       "    </tr>\n",
       "    <tr>\n",
       "      <th>SANDERS</th>\n",
       "      <td>178847323</td>\n",
       "      <td>0.189887</td>\n",
       "      <td>9.444361e+07</td>\n",
       "      <td>84403713</td>\n",
       "      <td>168807426</td>\n",
       "    </tr>\n",
       "  </tbody>\n",
       "</table>\n",
       "</div>"
      ],
      "text/plain": [
       "                lr       pct  contributions   original  traditionalmatching\n",
       "CRUZ      68216696  0.028550   1.419989e+07   54016803            108033606\n",
       "TRUMP     70827744  0.011024   5.483195e+06   65344550            130689100\n",
       "CLINTON  676842383  0.770538   3.832404e+08  293602014            587204028\n",
       "SANDERS  178847323  0.189887   9.444361e+07   84403713            168807426"
      ]
     },
     "execution_count": 74,
     "metadata": {},
     "output_type": "execute_result"
    }
   ],
   "source": [
    "b"
   ]
  },
  {
   "cell_type": "code",
   "execution_count": 72,
   "metadata": {},
   "outputs": [],
   "source": []
  },
  {
   "cell_type": "code",
   "execution_count": null,
   "metadata": {},
   "outputs": [],
   "source": []
  }
 ],
 "metadata": {
  "kernelspec": {
   "display_name": "Python 3",
   "language": "python",
   "name": "python3"
  },
  "language_info": {
   "codemirror_mode": {
    "name": "ipython",
    "version": 3
   },
   "file_extension": ".py",
   "mimetype": "text/x-python",
   "name": "python",
   "nbconvert_exporter": "python",
   "pygments_lexer": "ipython3",
   "version": "3.7.2"
  }
 },
 "nbformat": 4,
 "nbformat_minor": 2
}
